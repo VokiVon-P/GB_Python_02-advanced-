{
 "cells": [
  {
   "cell_type": "markdown",
   "metadata": {},
   "source": [
    "#### Задание 1\n",
    "Каждое из слов «разработка», «сокет», «декоратор» представить в строковом формате и проверить тип и содержание соответствующих переменных. Затем с помощью онлайн-конвертера преобразовать строковые представление в формат Unicode и также проверить тип и содержимое переменных."
   ]
  },
  {
   "cell_type": "code",
   "execution_count": 1,
   "metadata": {},
   "outputs": [
    {
     "name": "stdout",
     "output_type": "stream",
     "text": [
      "тип: <class 'str'> значение: разработка\n",
      "тип: <class 'str'> значение: сокет\n",
      "тип: <class 'str'> значение: декоратор\n"
     ]
    }
   ],
   "source": [
    "s1 = 'разработка'\n",
    "s2 = 'сокет'\n",
    "s3 = 'декоратор'\n",
    "\n",
    "print(f'тип: {type(s1)} значение: {s1}')\n",
    "print(f'тип: {type(s2)} значение: {s2}')\n",
    "print(f'тип: {type(s3)} значение: {s3}')"
   ]
  },
  {
   "cell_type": "code",
   "execution_count": 2,
   "metadata": {},
   "outputs": [
    {
     "name": "stdout",
     "output_type": "stream",
     "text": [
      "тип: <class 'bytes'> значение: b'\\xd1\\x80\\xd0\\xb0\\xd0\\xb7\\xd1\\x80\\xd0\\xb0\\xd0\\xb1\\xd0\\xbe\\xd1\\x82\\xd0\\xba\\xd0\\xb0'\n",
      "тип: <class 'bytes'> значение: b'\\xd1\\x81\\xd0\\xbe\\xd0\\xba\\xd0\\xb5\\xd1\\x82'\n",
      "тип: <class 'bytes'> значение: b'\\xd0\\xb4\\xd0\\xb5\\xd0\\xba\\xd0\\xbe\\xd1\\x80\\xd0\\xb0\\xd1\\x82\\xd0\\xbe\\xd1\\x80'\n"
     ]
    }
   ],
   "source": [
    "s1 = s1.encode('utf-8')\n",
    "s2 = s2.encode('utf-8')\n",
    "s3 = s3.encode('utf-8')\n",
    "\n",
    "print(f'тип: {type(s1)} значение: {s1}')\n",
    "print(f'тип: {type(s2)} значение: {s2}')\n",
    "print(f'тип: {type(s3)} значение: {s3}')"
   ]
  },
  {
   "cell_type": "markdown",
   "metadata": {},
   "source": [
    "#### Задание 2\n",
    "Каждое из слов «class», «function», «method» записать в байтовом типе без преобразования \n",
    "в последовательность кодов (не используя методы encode и decode) и определить тип, содержимое и длину соответствующих переменных."
   ]
  },
  {
   "cell_type": "code",
   "execution_count": 3,
   "metadata": {},
   "outputs": [
    {
     "name": "stdout",
     "output_type": "stream",
     "text": [
      "тип: <class 'bytes'> \tзначение: b'class' \tдлинна: 5\n",
      "тип: <class 'bytes'> \tзначение: b'function' \tдлинна: 8\n",
      "тип: <class 'bytes'> \tзначение: b'method' \tдлинна: 6\n"
     ]
    }
   ],
   "source": [
    "b1 = b'class'\n",
    "b2 = b'function'\n",
    "b3 = b'method'\n",
    "\n",
    "print(f'тип: {type(b1)} \\tзначение: {b1} \\tдлинна: {len(b1)}')\n",
    "print(f'тип: {type(b2)} \\tзначение: {b2} \\tдлинна: {len(b2)}')\n",
    "print(f'тип: {type(b3)} \\tзначение: {b3} \\tдлинна: {len(b3)}')"
   ]
  },
  {
   "cell_type": "markdown",
   "metadata": {},
   "source": [
    "#### Задание 3\n",
    "Определить, какие из слов «attribute», «класс», «функция», «type» невозможно записать в байтовом типе."
   ]
  },
  {
   "cell_type": "code",
   "execution_count": 4,
   "metadata": {},
   "outputs": [],
   "source": [
    "b1 = b'attribute'\n",
    "b2 = b'type'"
   ]
  },
  {
   "cell_type": "code",
   "execution_count": 5,
   "metadata": {},
   "outputs": [
    {
     "ename": "SyntaxError",
     "evalue": "bytes can only contain ASCII literal characters. (<ipython-input-5-4c76c2c4f213>, line 1)",
     "output_type": "error",
     "traceback": [
      "\u001b[1;36m  File \u001b[1;32m\"<ipython-input-5-4c76c2c4f213>\"\u001b[1;36m, line \u001b[1;32m1\u001b[0m\n\u001b[1;33m    b3 = b'функция'\u001b[0m\n\u001b[1;37m        ^\u001b[0m\n\u001b[1;31mSyntaxError\u001b[0m\u001b[1;31m:\u001b[0m bytes can only contain ASCII literal characters.\n"
     ]
    }
   ],
   "source": [
    "b3 = b'функция'"
   ]
  },
  {
   "cell_type": "code",
   "execution_count": null,
   "metadata": {},
   "outputs": [],
   "source": [
    "b4 = b'класс'"
   ]
  },
  {
   "cell_type": "markdown",
   "metadata": {},
   "source": [
    "Следовательно слова \"класс\" и \"функция\" нельзя записать в байтовом виде. И думаю что все слова на кирилице нельзя записать в байтовом виде стандартным для питона способом"
   ]
  },
  {
   "cell_type": "markdown",
   "metadata": {},
   "source": [
    "#### Задание 4\n",
    "Преобразовать слова «разработка», «администрирование», «protocol», «standard» из строкового представления в байтовое и выполнить обратное преобразование (используя методы encode и decode)."
   ]
  },
  {
   "cell_type": "code",
   "execution_count": null,
   "metadata": {},
   "outputs": [],
   "source": [
    "s1 = 'разработка'\n",
    "s2 = 'администрирование'\n",
    "s3 = 'protocol'\n",
    "s4 = 'standard'\n",
    "\n",
    "print(f'тип: {type(s1)} значение: {s1}')\n",
    "print(f'тип: {type(s2)} значение: {s2}')\n",
    "print(f'тип: {type(s3)} значение: {s3}')\n",
    "print(f'тип: {type(s4)} значение: {s4}')"
   ]
  },
  {
   "cell_type": "code",
   "execution_count": null,
   "metadata": {},
   "outputs": [],
   "source": [
    "# закодируем разными кодировками\n",
    "s1 = s1.encode('utf-16')\n",
    "s2 = s2.encode('utf-8')\n",
    "s3 = s3.encode()\n",
    "s4 = s4.encode()\n",
    "\n",
    "print(f'тип: {type(s1)} значение: {s1}')\n",
    "print(f'тип: {type(s2)} значение: {s2}')\n",
    "print(f'тип: {type(s3)} значение: {s3}')\n",
    "print(f'тип: {type(s4)} значение: {s4}')"
   ]
  },
  {
   "cell_type": "code",
   "execution_count": null,
   "metadata": {},
   "outputs": [],
   "source": [
    "s1 = s1.decode('utf-16')\n",
    "s2 = s2.decode('utf-8')\n",
    "s3 = s3.decode()\n",
    "s4 = s4.decode()\n",
    "\n",
    "print(f'тип: {type(s1)} значение: {s1}')\n",
    "print(f'тип: {type(s2)} значение: {s2}')\n",
    "print(f'тип: {type(s3)} значение: {s3}')\n",
    "print(f'тип: {type(s4)} значение: {s4}')"
   ]
  },
  {
   "cell_type": "markdown",
   "metadata": {},
   "source": [
    "#### Задание 5\n",
    "Выполнить пинг веб-ресурсов yandex.ru, youtube.com и преобразовать результаты из байтовового в строковый тип на кириллице."
   ]
  },
  {
   "cell_type": "code",
   "execution_count": null,
   "metadata": {},
   "outputs": [],
   "source": [
    "# способ используя стандартные библиотеки python\n",
    "import urllib.request as ur\n",
    "url = 'http://yandex.ru'\n",
    "conn = ur.urlopen(url)\n",
    "info = conn.read()\n",
    "text = info.decode('utf-8')\n",
    "text"
   ]
  },
  {
   "cell_type": "code",
   "execution_count": null,
   "metadata": {},
   "outputs": [],
   "source": [
    "# способ используя библиотеку requests\n",
    "import requests\n",
    "url = 'http://youtube.com'\n",
    "resp = requests.get(url)\n",
    "# автоматически декодирует текст на основании свойства resp.encoding, которая содержит кодировку от сервера\n",
    "resp.text"
   ]
  },
  {
   "cell_type": "markdown",
   "metadata": {},
   "source": [
    "#### Задание 6\n",
    "Создать текстовый файл test_file.txt, заполнить его тремя строками: «сетевое программирование», «сокет», «декоратор». Проверить кодировку файла по умолчанию. Принудительно открыть файл в формате Unicode и вывести его содержимое."
   ]
  },
  {
   "cell_type": "code",
   "execution_count": 13,
   "metadata": {},
   "outputs": [
    {
     "name": "stdout",
     "output_type": "stream",
     "text": [
      "Кодировка файла по умолчанию:  cp1251\n"
     ]
    }
   ],
   "source": [
    "with open('test_file.txt', 'w') as myfile:\n",
    "    temp = myfile.encoding\n",
    "    print(\"сетевое программирование\", file=myfile)\n",
    "    print(\"сокет\", file=myfile)\n",
    "    print(\"декоратор\", file=myfile)\n",
    "    \n",
    "print(\"Кодировка файла по умолчанию: \", temp)"
   ]
  },
  {
   "cell_type": "code",
   "execution_count": 14,
   "metadata": {},
   "outputs": [
    {
     "name": "stdout",
     "output_type": "stream",
     "text": [
      "Проверка кодировки чтением в бинарном виде: windows-1251\n",
      "Ошибка конвертации в формат UTF-8\n",
      " 'utf-8' codec can't decode byte 0xf1 in position 0: invalid continuation byte\n"
     ]
    }
   ],
   "source": [
    "# проверим кодировку с помощью chardet\n",
    "import chardet\n",
    "\n",
    "with open('test_file.txt', 'rb') as myfile:\n",
    "    data = myfile.read()\n",
    "    print(\"Проверка кодировки чтением в бинарном виде:\", chardet.detect(data)['encoding'])\n",
    "    try:\n",
    "        text = data.decode('utf-8')\n",
    "        print(text)\n",
    "    except Exception as err:\n",
    "        print(\"Ошибка конвертации в формат UTF-8\\n\", err)"
   ]
  },
  {
   "cell_type": "markdown",
   "metadata": {},
   "source": [
    "Пробуем прочесть данные другим способом: - сразу попробуем указать в каком формате прочесть"
   ]
  },
  {
   "cell_type": "code",
   "execution_count": 15,
   "metadata": {},
   "outputs": [
    {
     "name": "stdout",
     "output_type": "stream",
     "text": [
      "Ошибка конвертации в формат UTF-8\n",
      " 'utf-8' codec can't decode byte 0xf1 in position 0: invalid continuation byte\n"
     ]
    }
   ],
   "source": [
    "with open('test_file.txt', 'rt') as myfile:\n",
    "    try:\n",
    "        myfile.reconfigure(encoding = 'utf-8')\n",
    "        data = myfile.read()\n",
    "    except Exception as err:\n",
    "        print(\"Ошибка конвертации в формат UTF-8\\n\", err)"
   ]
  },
  {
   "cell_type": "code",
   "execution_count": null,
   "metadata": {},
   "outputs": [],
   "source": []
  }
 ],
 "metadata": {
  "kernelspec": {
   "display_name": "Python 3",
   "language": "python",
   "name": "python3"
  },
  "language_info": {
   "codemirror_mode": {
    "name": "ipython",
    "version": 3
   },
   "file_extension": ".py",
   "mimetype": "text/x-python",
   "name": "python",
   "nbconvert_exporter": "python",
   "pygments_lexer": "ipython3",
   "version": "3.7.2"
  }
 },
 "nbformat": 4,
 "nbformat_minor": 2
}
